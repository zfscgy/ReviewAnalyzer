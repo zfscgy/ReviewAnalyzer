{
 "cells": [
  {
   "cell_type": "code",
   "execution_count": 2,
   "metadata": {},
   "outputs": [],
   "source": [
    "import pandas as pd\n",
    "import numpy as np\n",
    "# Read data from the csv file\n",
    "df = pd.read_csv(\"data/bertopic聚类结果.csv\", encoding=\"utf-8\", lineterminator='\\n')"
   ]
  },
  {
   "cell_type": "code",
   "execution_count": 3,
   "metadata": {},
   "outputs": [],
   "source": [
    "from typing import List"
   ]
  },
  {
   "cell_type": "code",
   "execution_count": 4,
   "metadata": {},
   "outputs": [],
   "source": [
    "import jieba\n",
    "import stopwords\n",
    "\n",
    "stopword_set = stopwords.stopwords()\n",
    "\n",
    "def mining_frequent_phrases(texts: List[str], min_length: int = 1, max_length: int = 3):\n",
    "    phrase_dict = dict()\n",
    "    for text in texts:\n",
    "        words = jieba.lcut(text)\n",
    "        for i in range(len(words)):\n",
    "            for j in range(i + min_length, min(i + max_length + 1, len(words))):\n",
    "                phrase = \"\".join(words[i:j])\n",
    "                if (\"，\" in phrase) or (\"。\"in phrase) or (\" \" in phrase):\n",
    "                    continue\n",
    "                if phrase not in phrase_dict:\n",
    "                    phrase_dict[phrase] = 0\n",
    "                phrase_dict[phrase] += 1\n",
    "    \n",
    "    for k in list(phrase_dict.keys()):\n",
    "        if k in stopword_set:\n",
    "            del phrase_dict[k]\n",
    "\n",
    "    sorted_phrases = sorted(phrase_dict, key=phrase_dict.get, reverse=True)[:100]\n",
    "    sorted_dict = dict()\n",
    "    for k in sorted_phrases:\n",
    "        sorted_dict[k] = phrase_dict[k] / len(texts)\n",
    "    return sorted_dict\n"
   ]
  },
  {
   "cell_type": "code",
   "execution_count": 5,
   "metadata": {},
   "outputs": [
    {
     "name": "stderr",
     "output_type": "stream",
     "text": [
      "Building prefix dict from the default dictionary ...\n",
      "Loading model from cache /tmp/jieba.cache\n",
      "Loading model cost 1.877 seconds.\n",
      "Prefix dict has been built successfully.\n"
     ]
    },
    {
     "data": {
      "text/plain": [
       "{'好看': 0.16804489072652096,\n",
       " '喜欢': 0.1461901949202599,\n",
       " '挺': 0.08948611931482575,\n",
       " '不错': 0.08800945067926758,\n",
       " '买': 0.08033077377436504,\n",
       " '精致': 0.0800354400472534,\n",
       " '很好': 0.07855877141169522,\n",
       " '包装': 0.06792675723567632,\n",
       " '质量': 0.06320141760189013,\n",
       " '送人': 0.06113408151210868,\n",
       " '很喜欢': 0.05906674542232723,\n",
       " '送': 0.05197873597164796,\n",
       " '特别': 0.049616066154754876,\n",
       " '故宫': 0.0457767277023036,\n",
       " '东西': 0.044300059066745424,\n",
       " '朋友': 0.04311872415829888,\n",
       " '礼物': 0.04016538688718252,\n",
       " '真的': 0.038688718251624336,\n",
       " '收到': 0.038688718251624336,\n",
       " '！！': 0.03721204961606615,\n",
       " '做工': 0.03396337861783816,\n",
       " '很好看': 0.03307737743650325,\n",
       " '好评': 0.0318960425280567,\n",
       " '送人的': 0.031600708800945065,\n",
       " '漂亮': 0.031010041346721796,\n",
       " '送给': 0.03071470761961016,\n",
       " '可爱': 0.03071470761961016,\n",
       " '买来': 0.02982870643827525,\n",
       " '很漂亮': 0.02982870643827525,\n",
       " '满意': 0.029533372711163616,\n",
       " '买了': 0.02923803898405198,\n",
       " '超级': 0.028942705256940343,\n",
       " '宝贝': 0.028647371529828707,\n",
       " '发货': 0.027761370348493797,\n",
       " '感觉': 0.027170702894270527,\n",
       " '也很': 0.026284701712935617,\n",
       " '客服': 0.026284701712935617,\n",
       " '文创': 0.02598936798582398,\n",
       " '非常好': 0.025694034258712344,\n",
       " '价格': 0.0245126993502658,\n",
       " '希望': 0.0245126993502658,\n",
       " '好看的': 0.023331364441819255,\n",
       " '很精致': 0.02303603071470762,\n",
       " '产品': 0.022740696987595982,\n",
       " '挺好': 0.02244536326048435,\n",
       " '质量很': 0.021854695806261076,\n",
       " '设计': 0.02067336089781453,\n",
       " '精美': 0.020378027170702893,\n",
       " '质感': 0.02008269344359126,\n",
       " '很不错': 0.019787359716479623,\n",
       " '挺好看': 0.019492025989367986,\n",
       " '买的': 0.01919669226225635,\n",
       " '高': 0.018606024808033077,\n",
       " '颜值': 0.018606024808033077,\n",
       " '送礼': 0.018606024808033077,\n",
       " '购买': 0.018606024808033077,\n",
       " '合适': 0.01831069108092144,\n",
       " '材质': 0.01831069108092144,\n",
       " '快递': 0.018015357353809804,\n",
       " '！！！': 0.01772002362669817,\n",
       " '故宫文创': 0.017129356172474897,\n",
       " '寓意': 0.01683402244536326,\n",
       " '贵': 0.016243354991139988,\n",
       " '质量很好': 0.016243354991139988,\n",
       " '物流': 0.016243354991139988,\n",
       " '很快': 0.01594802126402835,\n",
       " '妈妈': 0.01594802126402835,\n",
       " '一点': 0.015652687536916714,\n",
       " '打开': 0.015062020082693443,\n",
       " '实物': 0.015062020082693443,\n",
       " '适合': 0.014766686355581808,\n",
       " '推荐': 0.014471352628470172,\n",
       " '看着': 0.014471352628470172,\n",
       " '大气': 0.014471352628470172,\n",
       " '很有': 0.014471352628470172,\n",
       " '送朋友': 0.014176018901358535,\n",
       " '好看！': 0.014176018901358535,\n",
       " '朋友很': 0.013880685174246898,\n",
       " '品质': 0.013880685174246898,\n",
       " '还可以': 0.013585351447135264,\n",
       " '想象': 0.013585351447135264,\n",
       " '外观': 0.013290017720023627,\n",
       " '挺好的': 0.01299468399291199,\n",
       " '图案': 0.01299468399291199,\n",
       " '值得': 0.012699350265800354,\n",
       " '爱': 0.012699350265800354,\n",
       " '速度': 0.012404016538688719,\n",
       " '的礼物': 0.012404016538688719,\n",
       " '商品': 0.012404016538688719,\n",
       " '**': 0.012108682811577082,\n",
       " '挺好看的': 0.012108682811577082,\n",
       " '朋友的': 0.011813349084465446,\n",
       " '也很好': 0.01151801535735381,\n",
       " '很棒': 0.011222681630242174,\n",
       " '喜欢！': 0.011222681630242174,\n",
       " '书签': 0.011222681630242174,\n",
       " '太好看': 0.010927347903130538,\n",
       " '两个': 0.010927347903130538,\n",
       " '买来送人': 0.010927347903130538,\n",
       " '的东西': 0.010927347903130538}"
      ]
     },
     "execution_count": 5,
     "metadata": {},
     "output_type": "execute_result"
    }
   ],
   "source": [
    "mining_frequent_phrases(df[df['bertopic'] == -1]['content'], 1, 10)"
   ]
  },
  {
   "cell_type": "code",
   "execution_count": 55,
   "metadata": {},
   "outputs": [
    {
     "data": {
      "text/plain": [
       "291"
      ]
     },
     "execution_count": 55,
     "metadata": {},
     "output_type": "execute_result"
    }
   ],
   "source": [
    "len(df[df['bertopic'] == 5]['content'])"
   ]
  },
  {
   "cell_type": "code",
   "execution_count": null,
   "metadata": {},
   "outputs": [],
   "source": [
    "term_dict = frequent_terms(\n",
    "terms_sorted = sorted(term_dict, key=term_dict.get, reverse=True)\n",
    "for t in terms_sorted[:50]:\n",
    "    print(t, term_dict[t] / len(df[df['bertopic'] == 1]['content']))"
   ]
  },
  {
   "cell_type": "code",
   "execution_count": 56,
   "metadata": {},
   "outputs": [
    {
     "data": {
      "text/plain": [
       "['杯', '垫', '不', '好看']"
      ]
     },
     "execution_count": 56,
     "metadata": {},
     "output_type": "execute_result"
    }
   ],
   "source": [
    "jieba.lcut(\"杯垫不好看\")"
   ]
  },
  {
   "cell_type": "code",
   "execution_count": 62,
   "metadata": {},
   "outputs": [
    {
     "data": {
      "text/plain": [
       "True"
      ]
     },
     "execution_count": 62,
     "metadata": {},
     "output_type": "execute_result"
    }
   ],
   "source": [
    "\"可以\" in stopword_set"
   ]
  },
  {
   "cell_type": "code",
   "execution_count": null,
   "metadata": {},
   "outputs": [],
   "source": []
  }
 ],
 "metadata": {
  "kernelspec": {
   "display_name": "torch",
   "language": "python",
   "name": "python3"
  },
  "language_info": {
   "codemirror_mode": {
    "name": "ipython",
    "version": 3
   },
   "file_extension": ".py",
   "mimetype": "text/x-python",
   "name": "python",
   "nbconvert_exporter": "python",
   "pygments_lexer": "ipython3",
   "version": "3.8.19"
  }
 },
 "nbformat": 4,
 "nbformat_minor": 2
}
