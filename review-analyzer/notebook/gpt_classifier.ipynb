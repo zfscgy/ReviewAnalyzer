{
 "cells": [
  {
   "cell_type": "code",
   "execution_count": 1,
   "metadata": {},
   "outputs": [],
   "source": [
    "from typing import List\n",
    "\n",
    "import os\n",
    "os.environ['https_proxy'] = \"10.192.132.179:10811\"\n",
    "\n",
    "\n",
    "import json\n",
    "from openai import OpenAI\n",
    "\n",
    "config = json.load(open(\"./secret_config.json\"))\n",
    "\n",
    "\n",
    "client = OpenAI(api_key=config[\"openai_key\"], base_url=\"https://api.132999.xyz/v1/\")\n",
    "\n",
    "def get_gpt_response(user_texts: List[str]):\n",
    "    response = client.chat.completions.create(\n",
    "    model=\"gpt-3.5-turbo\",\n",
    "    messages=[\n",
    "            {\n",
    "                \"role\": \"system\", \n",
    "                \"content\": f\"你是一个智慧的商业分析员，你会根据用户购买商品后的评价来判断其是否是消极或者积极；并且选择出用户评价的主要因素，\\\n",
    "                    从（造型、颜色、图案、风格、尺寸、包装、材质、工艺、实用性、文化、情感、审美、品质、物流、价格）这里面选一个产生评价的最主要因素（若无法确定，则为其他）。\\\n",
    "                    接下来我将会每一行输入一个用户评价。你将返回你的分析结果，每一行分别返回：[原始评价],[积极或消极],[因素]。\\\n",
    "                    用逗号分隔。例如对于\\\"太贵了\\\"这条评价，你将会返回\\\"太贵了,消极,价格\\\"\"\n",
    "            },\n",
    "            {\n",
    "                \"role\": \"user\",\n",
    "                \"content\": \"\\n\".join(user_texts)\n",
    "            }\n",
    "    ])\n",
    "    resps = response.choices[0].message.content.split(\"\\n\")\n",
    "    if len(resps) != len(user_texts):\n",
    "        resps += (len(user_texts) - len(resps)) * [\"\"]\n",
    "        print(\"注：此时GPT的回复数缺失！已经靠后补全\")\n",
    "    return resps"
   ]
  },
  {
   "cell_type": "code",
   "execution_count": 3,
   "metadata": {},
   "outputs": [],
   "source": [
    "import pandas as pd\n",
    "df = pd.read_csv(\"data/故宫纪念品评价-清洗后.csv\", encoding=\"utf-8\", lineterminator='\\n')\n",
    "df.loc[:, 'content'] = df['content'].astype(str)\n",
    "gpt_resps = open(\"gpt_tmp.txt\").readlines()\n",
    "gpt_resps = [s[:-1] for s in gpt_resps]  # Delete \\n in the tail\n"
   ]
  },
  {
   "cell_type": "code",
   "execution_count": 5,
   "metadata": {},
   "outputs": [
    {
     "name": "stderr",
     "output_type": "stream",
     "text": [
      "  3%|▎         | 17/638 [01:23<46:59,  4.54s/it] "
     ]
    },
    {
     "name": "stdout",
     "output_type": "stream",
     "text": [
      "注：此时GPT的回复数缺失！已经靠后补全\n"
     ]
    },
    {
     "name": "stderr",
     "output_type": "stream",
     "text": [
      "  4%|▍         | 28/638 [02:24<1:03:10,  6.21s/it]"
     ]
    },
    {
     "name": "stdout",
     "output_type": "stream",
     "text": [
      "注：此时GPT的回复数缺失！已经靠后补全\n"
     ]
    },
    {
     "name": "stderr",
     "output_type": "stream",
     "text": [
      "  5%|▍         | 31/638 [02:44<1:09:29,  6.87s/it]"
     ]
    },
    {
     "name": "stdout",
     "output_type": "stream",
     "text": [
      "注：此时GPT的回复数缺失！已经靠后补全\n"
     ]
    },
    {
     "name": "stderr",
     "output_type": "stream",
     "text": [
      "  5%|▌         | 32/638 [02:49<1:03:11,  6.26s/it]"
     ]
    },
    {
     "name": "stdout",
     "output_type": "stream",
     "text": [
      "注：此时GPT的回复数缺失！已经靠后补全\n"
     ]
    },
    {
     "name": "stderr",
     "output_type": "stream",
     "text": [
      "  8%|▊         | 51/638 [05:21<1:06:48,  6.83s/it]"
     ]
    },
    {
     "name": "stdout",
     "output_type": "stream",
     "text": [
      "注：此时GPT的回复数缺失！已经靠后补全\n"
     ]
    },
    {
     "name": "stderr",
     "output_type": "stream",
     "text": [
      "  8%|▊         | 52/638 [05:29<1:09:00,  7.07s/it]"
     ]
    },
    {
     "name": "stdout",
     "output_type": "stream",
     "text": [
      "注：此时GPT的回复数缺失！已经靠后补全\n"
     ]
    },
    {
     "name": "stderr",
     "output_type": "stream",
     "text": [
      "  9%|▉         | 57/638 [05:49<43:57,  4.54s/it]  "
     ]
    },
    {
     "name": "stdout",
     "output_type": "stream",
     "text": [
      "注：此时GPT的回复数缺失！已经靠后补全\n"
     ]
    },
    {
     "name": "stderr",
     "output_type": "stream",
     "text": [
      " 12%|█▏        | 78/638 [07:52<53:41,  5.75s/it]  "
     ]
    },
    {
     "name": "stdout",
     "output_type": "stream",
     "text": [
      "注：此时GPT的回复数缺失！已经靠后补全\n"
     ]
    },
    {
     "name": "stderr",
     "output_type": "stream",
     "text": [
      " 13%|█▎        | 82/638 [08:12<49:20,  5.33s/it]"
     ]
    },
    {
     "name": "stdout",
     "output_type": "stream",
     "text": [
      "注：此时GPT的回复数缺失！已经靠后补全\n"
     ]
    },
    {
     "name": "stderr",
     "output_type": "stream",
     "text": [
      " 13%|█▎        | 83/638 [08:17<48:06,  5.20s/it]"
     ]
    },
    {
     "name": "stdout",
     "output_type": "stream",
     "text": [
      "注：此时GPT的回复数缺失！已经靠后补全\n"
     ]
    },
    {
     "name": "stderr",
     "output_type": "stream",
     "text": [
      " 15%|█▌        | 97/638 [09:34<44:43,  4.96s/it]  "
     ]
    },
    {
     "name": "stdout",
     "output_type": "stream",
     "text": [
      "注：此时GPT的回复数缺失！已经靠后补全\n"
     ]
    },
    {
     "name": "stderr",
     "output_type": "stream",
     "text": [
      " 15%|█▌        | 98/638 [09:38<40:04,  4.45s/it]"
     ]
    },
    {
     "name": "stdout",
     "output_type": "stream",
     "text": [
      "注：此时GPT的回复数缺失！已经靠后补全\n"
     ]
    },
    {
     "name": "stderr",
     "output_type": "stream",
     "text": [
      " 17%|█▋        | 108/638 [10:40<56:43,  6.42s/it]  "
     ]
    },
    {
     "name": "stdout",
     "output_type": "stream",
     "text": [
      "注：此时GPT的回复数缺失！已经靠后补全\n"
     ]
    },
    {
     "name": "stderr",
     "output_type": "stream",
     "text": [
      " 18%|█▊        | 113/638 [11:07<49:47,  5.69s/it]"
     ]
    },
    {
     "name": "stdout",
     "output_type": "stream",
     "text": [
      "注：此时GPT的回复数缺失！已经靠后补全\n"
     ]
    },
    {
     "name": "stderr",
     "output_type": "stream",
     "text": [
      " 19%|█▊        | 119/638 [11:35<41:21,  4.78s/it]"
     ]
    },
    {
     "name": "stdout",
     "output_type": "stream",
     "text": [
      "注：此时GPT的回复数缺失！已经靠后补全\n"
     ]
    },
    {
     "name": "stderr",
     "output_type": "stream",
     "text": [
      " 20%|█▉        | 127/638 [12:15<47:27,  5.57s/it]"
     ]
    },
    {
     "name": "stdout",
     "output_type": "stream",
     "text": [
      "注：此时GPT的回复数缺失！已经靠后补全\n"
     ]
    },
    {
     "name": "stderr",
     "output_type": "stream",
     "text": [
      " 22%|██▏       | 140/638 [13:19<46:39,  5.62s/it]"
     ]
    },
    {
     "name": "stdout",
     "output_type": "stream",
     "text": [
      "注：此时GPT的回复数缺失！已经靠后补全\n"
     ]
    },
    {
     "name": "stderr",
     "output_type": "stream",
     "text": [
      " 25%|██▍       | 157/638 [15:01<1:09:30,  8.67s/it]"
     ]
    },
    {
     "name": "stdout",
     "output_type": "stream",
     "text": [
      "注：此时GPT的回复数缺失！已经靠后补全\n"
     ]
    },
    {
     "name": "stderr",
     "output_type": "stream",
     "text": [
      " 29%|██▉       | 186/638 [17:52<57:58,  7.70s/it]  "
     ]
    },
    {
     "name": "stdout",
     "output_type": "stream",
     "text": [
      "注：此时GPT的回复数缺失！已经靠后补全\n"
     ]
    },
    {
     "name": "stderr",
     "output_type": "stream",
     "text": [
      " 29%|██▉       | 187/638 [17:57<51:47,  6.89s/it]"
     ]
    },
    {
     "name": "stdout",
     "output_type": "stream",
     "text": [
      "注：此时GPT的回复数缺失！已经靠后补全\n"
     ]
    },
    {
     "name": "stderr",
     "output_type": "stream",
     "text": [
      " 29%|██▉       | 188/638 [18:10<1:06:37,  8.88s/it]"
     ]
    },
    {
     "name": "stdout",
     "output_type": "stream",
     "text": [
      "注：此时GPT的回复数缺失！已经靠后补全\n"
     ]
    },
    {
     "name": "stderr",
     "output_type": "stream",
     "text": [
      " 30%|██▉       | 189/638 [18:17<1:00:41,  8.11s/it]"
     ]
    },
    {
     "name": "stdout",
     "output_type": "stream",
     "text": [
      "注：此时GPT的回复数缺失！已经靠后补全\n"
     ]
    },
    {
     "name": "stderr",
     "output_type": "stream",
     "text": [
      " 31%|███       | 199/638 [19:16<40:23,  5.52s/it]  "
     ]
    },
    {
     "name": "stdout",
     "output_type": "stream",
     "text": [
      "注：此时GPT的回复数缺失！已经靠后补全\n"
     ]
    },
    {
     "name": "stderr",
     "output_type": "stream",
     "text": [
      " 34%|███▍      | 216/638 [20:50<38:55,  5.53s/it]"
     ]
    },
    {
     "name": "stdout",
     "output_type": "stream",
     "text": [
      "注：此时GPT的回复数缺失！已经靠后补全\n"
     ]
    },
    {
     "name": "stderr",
     "output_type": "stream",
     "text": [
      " 34%|███▍      | 219/638 [21:22<1:01:19,  8.78s/it]"
     ]
    },
    {
     "name": "stdout",
     "output_type": "stream",
     "text": [
      "注：此时GPT的回复数缺失！已经靠后补全\n"
     ]
    },
    {
     "name": "stderr",
     "output_type": "stream",
     "text": [
      " 36%|███▌      | 228/638 [22:16<49:13,  7.20s/it]  "
     ]
    },
    {
     "name": "stdout",
     "output_type": "stream",
     "text": [
      "注：此时GPT的回复数缺失！已经靠后补全\n"
     ]
    },
    {
     "name": "stderr",
     "output_type": "stream",
     "text": [
      " 38%|███▊      | 240/638 [23:44<50:36,  7.63s/it]  "
     ]
    },
    {
     "name": "stdout",
     "output_type": "stream",
     "text": [
      "注：此时GPT的回复数缺失！已经靠后补全\n"
     ]
    },
    {
     "name": "stderr",
     "output_type": "stream",
     "text": [
      " 39%|███▉      | 251/638 [24:42<35:44,  5.54s/it]"
     ]
    },
    {
     "name": "stdout",
     "output_type": "stream",
     "text": [
      "注：此时GPT的回复数缺失！已经靠后补全\n"
     ]
    },
    {
     "name": "stderr",
     "output_type": "stream",
     "text": [
      " 42%|████▏     | 265/638 [26:45<39:28,  6.35s/it]  "
     ]
    },
    {
     "name": "stdout",
     "output_type": "stream",
     "text": [
      "注：此时GPT的回复数缺失！已经靠后补全\n"
     ]
    },
    {
     "name": "stderr",
     "output_type": "stream",
     "text": [
      " 43%|████▎     | 275/638 [27:36<30:23,  5.02s/it]"
     ]
    },
    {
     "name": "stdout",
     "output_type": "stream",
     "text": [
      "注：此时GPT的回复数缺失！已经靠后补全\n"
     ]
    },
    {
     "name": "stderr",
     "output_type": "stream",
     "text": [
      " 43%|████▎     | 277/638 [27:49<35:01,  5.82s/it]"
     ]
    },
    {
     "name": "stdout",
     "output_type": "stream",
     "text": [
      "注：此时GPT的回复数缺失！已经靠后补全\n"
     ]
    },
    {
     "name": "stderr",
     "output_type": "stream",
     "text": [
      " 44%|████▎     | 279/638 [28:01<35:13,  5.89s/it]"
     ]
    },
    {
     "name": "stdout",
     "output_type": "stream",
     "text": [
      "注：此时GPT的回复数缺失！已经靠后补全\n"
     ]
    },
    {
     "name": "stderr",
     "output_type": "stream",
     "text": [
      " 45%|████▍     | 284/638 [28:29<36:56,  6.26s/it]"
     ]
    },
    {
     "name": "stdout",
     "output_type": "stream",
     "text": [
      "注：此时GPT的回复数缺失！已经靠后补全\n"
     ]
    },
    {
     "name": "stderr",
     "output_type": "stream",
     "text": [
      " 45%|████▌     | 289/638 [29:04<42:42,  7.34s/it]"
     ]
    },
    {
     "name": "stdout",
     "output_type": "stream",
     "text": [
      "注：此时GPT的回复数缺失！已经靠后补全\n"
     ]
    },
    {
     "name": "stderr",
     "output_type": "stream",
     "text": [
      " 47%|████▋     | 297/638 [29:47<28:10,  4.96s/it]"
     ]
    },
    {
     "name": "stdout",
     "output_type": "stream",
     "text": [
      "注：此时GPT的回复数缺失！已经靠后补全\n"
     ]
    },
    {
     "name": "stderr",
     "output_type": "stream",
     "text": [
      " 48%|████▊     | 309/638 [31:11<42:13,  7.70s/it]"
     ]
    },
    {
     "name": "stdout",
     "output_type": "stream",
     "text": [
      "注：此时GPT的回复数缺失！已经靠后补全\n"
     ]
    },
    {
     "name": "stderr",
     "output_type": "stream",
     "text": [
      " 49%|████▉     | 314/638 [34:47<3:01:55, 33.69s/it]"
     ]
    },
    {
     "name": "stdout",
     "output_type": "stream",
     "text": [
      "注：此时GPT的回复数缺失！已经靠后补全\n"
     ]
    },
    {
     "name": "stderr",
     "output_type": "stream",
     "text": [
      " 51%|█████     | 324/638 [35:44<34:15,  6.54s/it]  "
     ]
    },
    {
     "name": "stdout",
     "output_type": "stream",
     "text": [
      "注：此时GPT的回复数缺失！已经靠后补全\n"
     ]
    },
    {
     "name": "stderr",
     "output_type": "stream",
     "text": [
      " 51%|█████▏    | 327/638 [36:06<34:51,  6.72s/it]"
     ]
    },
    {
     "name": "stdout",
     "output_type": "stream",
     "text": [
      "注：此时GPT的回复数缺失！已经靠后补全\n"
     ]
    },
    {
     "name": "stderr",
     "output_type": "stream",
     "text": [
      " 54%|█████▎    | 342/638 [37:28<26:35,  5.39s/it]"
     ]
    },
    {
     "name": "stdout",
     "output_type": "stream",
     "text": [
      "注：此时GPT的回复数缺失！已经靠后补全\n"
     ]
    },
    {
     "name": "stderr",
     "output_type": "stream",
     "text": [
      " 54%|█████▍    | 347/638 [37:51<23:31,  4.85s/it]"
     ]
    },
    {
     "name": "stdout",
     "output_type": "stream",
     "text": [
      "注：此时GPT的回复数缺失！已经靠后补全\n"
     ]
    },
    {
     "name": "stderr",
     "output_type": "stream",
     "text": [
      " 55%|█████▌    | 351/638 [38:10<23:32,  4.92s/it]"
     ]
    },
    {
     "name": "stdout",
     "output_type": "stream",
     "text": [
      "注：此时GPT的回复数缺失！已经靠后补全\n"
     ]
    },
    {
     "name": "stderr",
     "output_type": "stream",
     "text": [
      " 57%|█████▋    | 366/638 [39:30<17:52,  3.94s/it]"
     ]
    },
    {
     "name": "stdout",
     "output_type": "stream",
     "text": [
      "注：此时GPT的回复数缺失！已经靠后补全\n"
     ]
    },
    {
     "name": "stderr",
     "output_type": "stream",
     "text": [
      " 58%|█████▊    | 369/638 [39:47<25:25,  5.67s/it]"
     ]
    },
    {
     "name": "stdout",
     "output_type": "stream",
     "text": [
      "注：此时GPT的回复数缺失！已经靠后补全\n"
     ]
    },
    {
     "name": "stderr",
     "output_type": "stream",
     "text": [
      " 58%|█████▊    | 373/638 [40:17<30:41,  6.95s/it]"
     ]
    },
    {
     "name": "stdout",
     "output_type": "stream",
     "text": [
      "注：此时GPT的回复数缺失！已经靠后补全\n"
     ]
    },
    {
     "name": "stderr",
     "output_type": "stream",
     "text": [
      " 59%|█████▉    | 379/638 [40:52<26:04,  6.04s/it]"
     ]
    },
    {
     "name": "stdout",
     "output_type": "stream",
     "text": [
      "注：此时GPT的回复数缺失！已经靠后补全\n"
     ]
    },
    {
     "name": "stderr",
     "output_type": "stream",
     "text": [
      " 60%|██████    | 384/638 [41:24<27:00,  6.38s/it]"
     ]
    },
    {
     "name": "stdout",
     "output_type": "stream",
     "text": [
      "注：此时GPT的回复数缺失！已经靠后补全\n"
     ]
    },
    {
     "name": "stderr",
     "output_type": "stream",
     "text": [
      " 61%|██████    | 386/638 [41:31<19:58,  4.76s/it]"
     ]
    },
    {
     "name": "stdout",
     "output_type": "stream",
     "text": [
      "注：此时GPT的回复数缺失！已经靠后补全\n"
     ]
    },
    {
     "name": "stderr",
     "output_type": "stream",
     "text": [
      " 62%|██████▏   | 398/638 [42:32<18:30,  4.63s/it]"
     ]
    },
    {
     "name": "stdout",
     "output_type": "stream",
     "text": [
      "注：此时GPT的回复数缺失！已经靠后补全\n"
     ]
    },
    {
     "name": "stderr",
     "output_type": "stream",
     "text": [
      " 66%|██████▋   | 424/638 [45:55<26:05,  7.31s/it]  "
     ]
    },
    {
     "name": "stdout",
     "output_type": "stream",
     "text": [
      "注：此时GPT的回复数缺失！已经靠后补全\n"
     ]
    },
    {
     "name": "stderr",
     "output_type": "stream",
     "text": [
      " 67%|██████▋   | 425/638 [46:03<27:16,  7.68s/it]"
     ]
    },
    {
     "name": "stdout",
     "output_type": "stream",
     "text": [
      "注：此时GPT的回复数缺失！已经靠后补全\n"
     ]
    },
    {
     "name": "stderr",
     "output_type": "stream",
     "text": [
      " 68%|██████▊   | 436/638 [47:19<25:42,  7.64s/it]"
     ]
    },
    {
     "name": "stdout",
     "output_type": "stream",
     "text": [
      "注：此时GPT的回复数缺失！已经靠后补全\n"
     ]
    },
    {
     "name": "stderr",
     "output_type": "stream",
     "text": [
      " 71%|███████   | 452/638 [49:17<25:11,  8.12s/it]"
     ]
    },
    {
     "name": "stdout",
     "output_type": "stream",
     "text": [
      "注：此时GPT的回复数缺失！已经靠后补全\n"
     ]
    },
    {
     "name": "stderr",
     "output_type": "stream",
     "text": [
      " 71%|███████▏  | 456/638 [49:46<22:26,  7.40s/it]"
     ]
    },
    {
     "name": "stdout",
     "output_type": "stream",
     "text": [
      "注：此时GPT的回复数缺失！已经靠后补全\n"
     ]
    },
    {
     "name": "stderr",
     "output_type": "stream",
     "text": [
      " 72%|███████▏  | 457/638 [49:54<23:01,  7.63s/it]"
     ]
    },
    {
     "name": "stdout",
     "output_type": "stream",
     "text": [
      "注：此时GPT的回复数缺失！已经靠后补全\n"
     ]
    },
    {
     "name": "stderr",
     "output_type": "stream",
     "text": [
      " 74%|███████▎  | 470/638 [51:31<22:58,  8.20s/it]"
     ]
    },
    {
     "name": "stdout",
     "output_type": "stream",
     "text": [
      "注：此时GPT的回复数缺失！已经靠后补全\n"
     ]
    },
    {
     "name": "stderr",
     "output_type": "stream",
     "text": [
      " 75%|███████▌  | 480/638 [52:45<16:09,  6.13s/it]"
     ]
    },
    {
     "name": "stdout",
     "output_type": "stream",
     "text": [
      "注：此时GPT的回复数缺失！已经靠后补全\n"
     ]
    },
    {
     "name": "stderr",
     "output_type": "stream",
     "text": [
      " 76%|███████▌  | 483/638 [53:05<16:30,  6.39s/it]"
     ]
    },
    {
     "name": "stdout",
     "output_type": "stream",
     "text": [
      "注：此时GPT的回复数缺失！已经靠后补全\n"
     ]
    },
    {
     "name": "stderr",
     "output_type": "stream",
     "text": [
      " 79%|███████▉  | 504/638 [55:32<15:50,  7.09s/it]"
     ]
    },
    {
     "name": "stdout",
     "output_type": "stream",
     "text": [
      "注：此时GPT的回复数缺失！已经靠后补全\n"
     ]
    },
    {
     "name": "stderr",
     "output_type": "stream",
     "text": [
      " 81%|████████  | 517/638 [57:18<18:43,  9.28s/it]"
     ]
    },
    {
     "name": "stdout",
     "output_type": "stream",
     "text": [
      "注：此时GPT的回复数缺失！已经靠后补全\n"
     ]
    },
    {
     "name": "stderr",
     "output_type": "stream",
     "text": [
      " 83%|████████▎ | 528/638 [58:36<13:34,  7.41s/it]"
     ]
    },
    {
     "name": "stdout",
     "output_type": "stream",
     "text": [
      "注：此时GPT的回复数缺失！已经靠后补全\n"
     ]
    },
    {
     "name": "stderr",
     "output_type": "stream",
     "text": [
      " 83%|████████▎ | 529/638 [58:42<12:35,  6.93s/it]"
     ]
    },
    {
     "name": "stdout",
     "output_type": "stream",
     "text": [
      "注：此时GPT的回复数缺失！已经靠后补全\n"
     ]
    },
    {
     "name": "stderr",
     "output_type": "stream",
     "text": [
      " 85%|████████▌ | 543/638 [1:00:17<08:18,  5.25s/it]"
     ]
    },
    {
     "name": "stdout",
     "output_type": "stream",
     "text": [
      "注：此时GPT的回复数缺失！已经靠后补全\n"
     ]
    },
    {
     "name": "stderr",
     "output_type": "stream",
     "text": [
      " 86%|████████▌ | 547/638 [1:00:40<09:08,  6.02s/it]"
     ]
    },
    {
     "name": "stdout",
     "output_type": "stream",
     "text": [
      "注：此时GPT的回复数缺失！已经靠后补全\n"
     ]
    },
    {
     "name": "stderr",
     "output_type": "stream",
     "text": [
      " 87%|████████▋ | 555/638 [1:01:27<08:09,  5.90s/it]"
     ]
    },
    {
     "name": "stdout",
     "output_type": "stream",
     "text": [
      "注：此时GPT的回复数缺失！已经靠后补全\n"
     ]
    },
    {
     "name": "stderr",
     "output_type": "stream",
     "text": [
      " 88%|████████▊ | 561/638 [1:01:57<07:28,  5.82s/it]"
     ]
    },
    {
     "name": "stdout",
     "output_type": "stream",
     "text": [
      "注：此时GPT的回复数缺失！已经靠后补全\n"
     ]
    },
    {
     "name": "stderr",
     "output_type": "stream",
     "text": [
      " 88%|████████▊ | 564/638 [1:02:13<06:37,  5.38s/it]"
     ]
    },
    {
     "name": "stdout",
     "output_type": "stream",
     "text": [
      "注：此时GPT的回复数缺失！已经靠后补全\n"
     ]
    },
    {
     "name": "stderr",
     "output_type": "stream",
     "text": [
      " 90%|█████████ | 575/638 [1:03:07<05:10,  4.93s/it]"
     ]
    },
    {
     "name": "stdout",
     "output_type": "stream",
     "text": [
      "注：此时GPT的回复数缺失！已经靠后补全\n"
     ]
    },
    {
     "name": "stderr",
     "output_type": "stream",
     "text": [
      " 90%|█████████ | 576/638 [1:03:14<05:34,  5.39s/it]"
     ]
    },
    {
     "name": "stdout",
     "output_type": "stream",
     "text": [
      "注：此时GPT的回复数缺失！已经靠后补全\n"
     ]
    },
    {
     "name": "stderr",
     "output_type": "stream",
     "text": [
      " 93%|█████████▎| 593/638 [1:04:47<03:57,  5.27s/it]"
     ]
    },
    {
     "name": "stdout",
     "output_type": "stream",
     "text": [
      "注：此时GPT的回复数缺失！已经靠后补全\n"
     ]
    },
    {
     "name": "stderr",
     "output_type": "stream",
     "text": [
      " 96%|█████████▌| 614/638 [1:07:05<02:21,  5.88s/it]"
     ]
    },
    {
     "name": "stdout",
     "output_type": "stream",
     "text": [
      "注：此时GPT的回复数缺失！已经靠后补全\n"
     ]
    },
    {
     "name": "stderr",
     "output_type": "stream",
     "text": [
      " 96%|█████████▋| 615/638 [1:07:08<01:59,  5.21s/it]"
     ]
    },
    {
     "name": "stdout",
     "output_type": "stream",
     "text": [
      "注：此时GPT的回复数缺失！已经靠后补全\n"
     ]
    },
    {
     "name": "stderr",
     "output_type": "stream",
     "text": [
      "100%|█████████▉| 637/638 [1:09:01<00:05,  5.08s/it]"
     ]
    },
    {
     "name": "stdout",
     "output_type": "stream",
     "text": [
      "注：此时GPT的回复数缺失！已经靠后补全\n"
     ]
    },
    {
     "name": "stderr",
     "output_type": "stream",
     "text": [
      "100%|██████████| 638/638 [1:09:04<00:00,  6.50s/it]\n"
     ]
    }
   ],
   "source": [
    "import tqdm\n",
    "\n",
    "\n",
    "step_size = 10\n",
    "for i in tqdm.tqdm(range(len(gpt_resps), len(df), step_size)):    \n",
    "    while True:\n",
    "        try:\n",
    "            resps = get_gpt_response(df['content'][i: i + step_size])\n",
    "            break\n",
    "        except:\n",
    "            pass\n",
    "\n",
    "    # 获取GPT返回结果，并且及时保存。\n",
    "    file = open(\"gpt_tmp.txt\", \"w\")\n",
    "    gpt_resps += resps\n",
    "    file.write(\"\\n\".join(gpt_resps))\n",
    "    file.close()"
   ]
  },
  {
   "cell_type": "code",
   "execution_count": 3,
   "metadata": {},
   "outputs": [
    {
     "name": "stdout",
     "output_type": "stream",
     "text": [
      "Unable to parse:  两个画风的都拍了，感觉不错。\n",
      "Unable to parse:  中国红的颜色很大气，用来装送礼品的\n",
      "Unable to parse:  习惯好评\n",
      "Unable to parse:  习惯好评\n",
      "Unable to parse:  习惯好评\n",
      "Unable to parse:  挺好的。喜欢图案。古朴典雅。觉得适合天气凉快时用。\n",
      "Unable to parse:  挺好的。喜欢图案。古朴典雅。觉得适合天气凉快时用。\n",
      "Unable to parse:  很棒！\n",
      "Unable to parse:  很棒！\n",
      "Unable to parse:  智商税，价钱与实物不符，有不值当退，就这样吧\n",
      "Unable to parse:  很好看\n",
      "Unable to parse:  喜欢！感觉千里江山图的杯垫还挺特别的\n",
      "Unable to parse:  正品，棒棒哒，价格很优惠，总而言之挺好的，还会再买\n",
      "Unable to parse:  感谢故宫给我寄来的这套软木垫东西非常精致，非常好看，有机会一定要去故宫现场再挑一点喜欢的东西。感谢我的好朋友爱新觉罗溥仪和他的夫人婉容皇后寄来的礼物。\n",
      "Unable to parse:  非常喜欢，非常漂亮。。。。。。。。\n",
      "Unable to parse:  一分钱薅了个羊毛，千里江山图真的绝美！！！\n",
      "Unable to parse:  收藏好久了，赶上凑单买，属于好看收藏系列\n",
      "Unable to parse:  很不错嘻嘻\n",
      "Unable to parse:  好看好看好看好看好看，重要事情说五遍\n",
      "Unable to parse:  黄色实在不知道怎么搭衣服\n",
      "Unable to parse:  没开，看外包装就不错\n",
      "Unable to parse:  赏心悦目\n",
      "Unable to parse:  赢在包装上了\n",
      "Unable to parse:  超级好，上街的回头率超高！喜欢，希望多出款式\n",
      "Unable to parse:  超级好，上街的回头率超高！喜欢，希望多出款式\n",
      "Unable to parse:  超级好，上街的回头率超高！喜欢，希望多出款式\n",
      "Unable to parse:  超级好，上街的回头率超高！喜欢，希望多出款式\n",
      "Unable to parse:  超级好，上街的回头率超高！喜欢，希望多出款式\n",
      "Unable to parse:  超级好，上街的回头率超高！喜欢，希望多出款式\n",
      "Unable to parse:  超级好，上街的回头率超高！喜欢，希望多出款式\n",
      "Unable to parse:  超级好，上街的回头率超高！喜欢，希望多出款式\n",
      "Unable to parse:  超级好，上街的回头率超高！喜欢，希望多出款式\n",
      "Unable to parse:  超级好，上街的回头率超高！喜欢，希望多出款式\n",
      "Unable to parse:  外围硅胶圈有些松\n",
      "Unable to parse:  很漂亮。但是，外圈的胶圈很松。勉强说的过去吧。\n",
      "Unable to parse:  很漂亮。但是，外圈的胶圈很松。勉强说的过去吧。\n",
      "Unable to parse:  很漂亮。但是，外圈的胶圈很松。勉强说的过去吧。\n",
      "Unable to parse:  很漂亮。但是，外圈的胶圈很松。勉强说的过去吧。\n",
      "Unable to parse:  很漂亮。但是，外圈的胶圈很松。勉强说的过去吧。\n",
      "Unable to parse:  很漂亮。但是，外圈的胶圈很松。勉强说的过去吧。\n",
      "Unable to parse:  很漂亮。但是，外圈的胶圈很松。勉强说的过去吧。\n",
      "Unable to parse:  很漂亮。但是，外圈的胶圈很松。勉强说的过去吧。\n",
      "Unable to parse:  很漂亮。但是，外圈的胶圈很松。勉强说的过去吧。\n",
      "Unable to parse:  很漂亮。但是，外圈的胶圈很松。勉强说的过去吧。\n",
      "Unable to parse:  好看\n",
      "Unable to parse:  还不错\n",
      "Unable to parse:  小兔兔很可爱\n",
      "Unable to parse:  还不错哟\n",
      "Unable to parse:  真的很好用，对商品非常满意，属于无限回购款，推荐！\n",
      "Unable to parse:  真的很喜欢，完全超出期望值，发货速度非常快，包装非常仔细、严实，运送速度很快，很满意的一次购物\n",
      "Unable to parse:  真的好喜欢，客服态度也挺好的，值！以后有需要还会来买\n",
      "Unable to parse:  没见实物，买来送人的，礼袋都装不下，特意搭了买了一个帆布包，不过包质量很一般\n",
      "Unable to parse:  很漂亮\n",
      "Unable to parse:  很漂亮\n",
      "Unable to parse:  很漂亮\n",
      "Unable to parse:  很漂亮\n",
      "Unable to parse:  很漂亮\n",
      "Unable to parse:  很漂亮\n",
      "Unable to parse:  很漂亮\n",
      "Unable to parse:  很漂亮\n",
      "Unable to parse:  很漂亮\n",
      "Unable to parse:  很漂亮\n",
      "Unable to parse:  项链很好看，但是她有了更好的选择\n",
      "Unable to parse:  项链很好看，但是她有了更好的选择\n",
      "Unable to parse:  项链很好看，但是她有了更好的选择\n",
      "Unable to parse:  项链很好看，但是她有了更好的选择\n",
      "Unable to parse:  项链很好看，但是她有了更好的选择\n",
      "Unable to parse:  项链很好看，但是她有了更好的选择\n",
      "Unable to parse:  项链很好看，但是她有了更好的选择\n",
      "Unable to parse:  项链很好看，但是她有了更好的选择\n",
      "Unable to parse:  项链很好看，但是她有了更好的选择\n",
      "Unable to parse:  项链很好看，但是她有了更好的选择\n",
      "Unable to parse:  漂亮，比想象的小一些\n",
      "Unable to parse:  漂亮，比想象的小一些\n",
      "Unable to parse:  漂亮，比想象的小一些\n",
      "Unable to parse:  漂亮，比想象的小一些\n",
      "Unable to parse:  漂亮，比想象的小一些\n",
      "Unable to parse:  漂亮，比想象的小一些\n",
      "Unable to parse:  漂亮，比想象的小一些\n",
      "Unable to parse:  漂亮，比想象的小一些\n",
      "Unable to parse:  漂亮，比想象的小一些\n",
      "Unable to parse:  漂亮，比想象的小一些\n",
      "Unable to parse:  自己挺喜欢的 蛮可爱的 寓意吉祥 戴着玩\n",
      "Unable to parse:  好玩，不便宜哦\n",
      "Unable to parse:  超好看！流沙质感如梦似幻特别喜欢。\n",
      "Unable to parse:  书签折了3个。。主要是买来送人的急着用，还这样，体验感极差\n",
      "Unable to parse:  1.这个真的不值100多，无论是书签的材质还是书签的样式都远远配不上100多的价格，折半价顶天了。 2.物流极慢，卖家也不喜欢解决问题。\n",
      "Unable to parse:  买来送人的，没有打开，外包装很精美。\n",
      "Unable to parse:  不错不错\n",
      "Unable to parse:  送朋友的，包装看上去很不错，朋友挺喜欢的\n",
      "Unable to parse:  送朋友的，包装看上去很不错，朋友挺喜欢的\n",
      "Unable to parse:  送朋友的，包装看上去很不错，朋友挺喜欢的\n",
      "Unable to parse:  送朋友的，包装看上去很不错，朋友挺喜欢的\n",
      "Unable to parse:  送朋友的，包装看上去很不错，朋友挺喜欢的\n",
      "Unable to parse:  送朋友的，包装看上去很不错，朋友挺喜欢的\n",
      "Unable to parse:  送朋友的，包装看上去很不错，朋友挺喜欢的\n",
      "Unable to parse:  送朋友的，包装看上去很不错，朋友挺喜欢的\n",
      "Unable to parse:  送朋友的，包装看上去很不错，朋友挺喜欢的\n",
      "Unable to parse:  送朋友的，包装看上去很不错，朋友挺喜欢的\n",
      "Unable to parse:  送朋友的，包装看上去很不错，朋友挺喜欢的\n",
      "Unable to parse:  除了不能完全贴墙外，其他都好的没话说！！！推荐！！\n",
      "Unable to parse:  除了不能完全贴墙外，其他都好的没话说！！！推荐！！\n",
      "Unable to parse:  除了不能完全贴墙外，其他都好的没话说！！！推荐！！\n",
      "Unable to parse:  除了不能完全贴墙外，其他都好的没话说！！！推荐！！\n",
      "Unable to parse:  除了不能完全贴墙外，其他都好的没话说！！！推荐！！\n",
      "Unable to parse:  除了不能完全贴墙外，其他都好的没话说！！！推荐！！\n",
      "Unable to parse:  除了不能完全贴墙外，其他都好的没话说！！！推荐！！\n",
      "Unable to parse:  除了不能完全贴墙外，其他都好的没话说！！！推荐！！\n",
      "Unable to parse:  除了不能完全贴墙外，其他都好的没话说！！！推荐！！\n",
      "Unable to parse:  除了不能完全贴墙外，其他都好的没话说！！！推荐！！\n",
      "Unable to parse:  除了不能完全贴墙外，其他都好的没话说！！！推荐！！\n",
      "Unable to parse:  挺好看\n",
      "Unable to parse:  太喜欢了，非常合适，精致，喜庆！\n",
      "Unable to parse:  买来送礼的挺合适，产品大气美观，性价比很高。\n",
      "Unable to parse:  事事如意挂画很精致 很漂亮 质量很好 很好用 活动价格超值 谢谢卖家的优惠活动 快递包装严实 卖家发货速度也很快 祝生意兴隆！\n",
      "Unable to parse:  傻傻的，很可爱，质量很好\n",
      "Unable to parse:  傻傻的，很可爱，质量很好\n",
      "Unable to parse:  可爱\n",
      "Unable to parse:  可爱\n",
      "Unable to parse:  可爱\n",
      "Unable to parse:  可爱\n",
      "Unable to parse:  可爱\n",
      "Unable to parse:  可爱\n",
      "Unable to parse:  可爱\n",
      "Unable to parse:  可爱\n",
      "Unable to parse:  可爱\n",
      "Unable to parse:  可爱\n",
      "Unable to parse:  东西质量还可以，快递速度也很给力\n",
      "Unable to parse:  东西质量还可以，快递速度也很给力\n",
      "Unable to parse:  东西质量还可以，快递速度也很给力\n",
      "Unable to parse:  东西质量还可以，快递速度也很给力\n",
      "Unable to parse:  东西质量还可以，快递速度也很给力\n",
      "Unable to parse:  东西质量还可以，快递速度也很给力\n",
      "Unable to parse:  东西质量还可以，快递速度也很给力\n",
      "Unable to parse:  东西质量还可以，快递速度也很给力\n",
      "Unable to parse:  东西质量还可以，快递速度也很给力\n",
      "Unable to parse:  东西质量还可以，快递速度也很给力\n",
      "Unable to parse:  很可爱呀 很喜欢故宫的文创 继续关注\n",
      "Unable to parse:  怪我没看仔细，颜色很淡的。包装很精美。\n",
      "Unable to parse:  怪我没看仔细，颜色很淡的。包装很精美。\n",
      "Unable to parse:  怪我没看仔细，颜色很淡的。包装很精美。\n",
      "Unable to parse:  怪我没看仔细，颜色很淡的。包装很精美。\n",
      "Unable to parse:  怪我没看仔细，颜色很淡的。包装很精美。\n",
      "Unable to parse:  怪我没看仔细，颜色很淡的。包装很精美。\n",
      "Unable to parse:  怪我没看仔细，颜色很淡的。包装很精美。\n",
      "Unable to parse:  怪我没看仔细，颜色很淡的。包装很精美。\n",
      "Unable to parse:  怪我没看仔细，颜色很淡的。包装很精美。\n",
      "Unable to parse:  怪我没看仔细，颜色很淡的。包装很精美。\n",
      "Unable to parse:  不错 送人有意义\n",
      "Unable to parse:  不错 送人有意义\n",
      "Unable to parse:  不错 送人有意义\n",
      "Unable to parse:  不错 送人有意义\n",
      "Unable to parse:  不错 送人有意义\n",
      "Unable to parse:  不错 送人有意义\n",
      "Unable to parse:  不错 送人有意义\n",
      "Unable to parse:  不错 送人有意义\n",
      "Unable to parse:  不错 送人有意义\n",
      "Unable to parse:  不错 送人有意义\n",
      "Unable to parse:  不错 送人有意义\n",
      "Unable to parse:  不错 送人有意义\n",
      "Unable to parse:  不错 送人有意义\n",
      "Unable to parse:  不错 送人有意义\n",
      "Unable to parse:  不错 送人有意义\n",
      "Unable to parse:  不错 送人有意义\n",
      "Unable to parse:  不错 送人有意义\n",
      "Unable to parse:  不错 送人有意义\n",
      "Unable to parse:  不错 送人有意义\n",
      "Unable to parse:  不错 送人有意义\n",
      "Unable to parse:  不错 送人有意义\n",
      "Unable to parse:  不错 送人有意义\n",
      "Unable to parse:  不错 送人有意义\n",
      "Unable to parse:  不错 送人有意义\n",
      "Unable to parse:  不错 送人有意义\n",
      "Unable to parse:  不错 送人有意义\n",
      "Unable to parse:  不错 送人有意义\n",
      "Unable to parse:  不错 送人有意义\n",
      "Unable to parse:  不错 送人有意义\n",
      "Unable to parse:  超级帅的一套笔，属于那种打开就舍不得用的存在。\n",
      "Unable to parse:  超级帅的一套笔，属于那种打开就舍不得用的存在。\n",
      "Unable to parse:  超级帅的一套笔，属于那种打开就舍不得用的存在。\n",
      "Unable to parse:  超级帅的一套笔，属于那种打开就舍不得用的存在。\n",
      "Unable to parse:  超级帅的一套笔，属于那种打开就舍不得用的存在。\n",
      "Unable to parse:  超级帅的一套笔，属于那种打开就舍不得用的存在。\n",
      "Unable to parse:  超级帅的一套笔，属于那种打开就舍不得用的存在。\n",
      "Unable to parse:  超级帅的一套笔，属于那种打开就舍不得用的存在。\n",
      "Unable to parse:  超级帅的一套笔，属于那种打开就舍不得用的存在。\n",
      "Unable to parse:  超级帅的一套笔，属于那种打开就舍不得用的存在。\n",
      "Unable to parse:  就是图一好看，实用性也就那样\n",
      "Unable to parse:  送人的，寓意好\n",
      "Unable to parse:  好 \n",
      "Unable to parse:  好看 很精致\n",
      "Unable to parse:  特别满意！无色差！\n",
      "Unable to parse:  质量不错，小柿子亮晶晶的。\n",
      "Unable to parse:  质量不错，小柿子亮晶晶的。\n",
      "Unable to parse:  品质不错\n",
      "Unable to parse:  质量非常好，喜气洋洋，很有过年氛围！\n",
      "Unable to parse:  质量非常好，喜气洋洋，很有过年氛围！\n",
      "Unable to parse:  质量非常好，喜气洋洋，很有过年氛围！\n",
      "Unable to parse:  质量非常好，喜气洋洋，很有过年氛围！\n",
      "Unable to parse:  质量非常好，喜气洋洋，很有过年氛围！\n",
      "Unable to parse:  质量非常好，喜气洋洋，很有过年氛围！\n",
      "Unable to parse:  质量非常好，喜气洋洋，很有过年氛围！\n",
      "Unable to parse:  质量非常好，喜气洋洋，很有过年氛围！\n",
      "Unable to parse:  质量非常好，喜气洋洋，很有过年氛围！\n",
      "Unable to parse:  质量非常好，喜气洋洋，很有过年氛围！\n",
      "Unable to parse:  质量非常好，喜气洋洋，很有过年氛围！\n",
      "Unable to parse:  质量非常好，喜气洋洋，很有过年氛围！\n",
      "Unable to parse:  质量超好物美价廉\n",
      "Unable to parse:  非常好\n",
      "Unable to parse:  很好\n",
      "Unable to parse:  很好\n",
      "Unable to parse:  很好\n",
      "Unable to parse:  很好\n",
      "Unable to parse:  很好\n",
      "Unable to parse:  很好\n",
      "Unable to parse:  很好\n",
      "Unable to parse:  很好\n",
      "Unable to parse:  很好\n",
      "Unable to parse:  很好\n",
      "Unable to parse:  很好\n",
      "Unable to parse:  很好\n",
      "Unable to parse:  很好\n",
      "Unable to parse:  很好\n",
      "Unable to parse:  很好\n",
      "Unable to parse:  很好\n",
      "Unable to parse:  很好\n",
      "Unable to parse:  很好\n",
      "Unable to parse:  很好\n",
      "Unable to parse:  很好\n",
      "Unable to parse:  很好\n",
      "Unable to parse:  很好\n",
      "Unable to parse:  很好\n",
      "Unable to parse:  很好\n",
      "Unable to parse:  很好\n",
      "Unable to parse:  可可爱爱的帽子！\n",
      "Unable to parse:  可可爱爱的帽子！\n",
      "Unable to parse:  可可爱爱的帽子！\n",
      "Unable to parse:  特别漂亮！送给爸爸的，收到礼物特别开心\n",
      "Unable to parse:  好看，金属比较薄\n",
      "Unable to parse:  看着还不错，灯光很温暖的，陶瓷也均匀，非常喜欢的，猫咪也可爱。值得推荐给身边好友\n",
      "Unable to parse:  好朋友搬新家，在网上找了找，发现这套茶具还不错！故宫出品的质量过硬，中国风的元素，很适合当作乔迁礼物。这款差距做工精良，没有任何问题，非常漂亮！满意，好评...\n",
      "Unable to parse:  物流是真的快，送朋友的生日礼物，说是很喜欢～\n",
      "Unable to parse:  超好看\n",
      "Unable to parse:  送朋友的 没有打开 希望做工好\n",
      "Unable to parse:  双十一买的，那时候价格优惠，但是收到破损了，快递袋破的里面盒子也是破的。本来是准备送人，换货或者寄个盒子过来都好的，结果说没货了让我退货，那我还能今年重新过个双十一买别的啊，说到底退货我重新买别的我也是损失的，很生气！\n",
      "Unable to parse:  送给我最好的朋友。 祝她长命百岁太难 愿她无忧无虑不切实际 索性事事顺遂，柿柿如意 祝抽烟的她，香气满满\n",
      "Unable to parse:  送给我最好的朋友。 祝她长命百岁太难 愿她无忧无虑不切实际 索性事事顺遂，柿柿如意 祝抽烟的她，香气满满\n",
      "Unable to parse:  送给我最好的朋友。 祝她长命百岁太难 愿她无忧无虑不切实际 索性事事顺遂，柿柿如意 祝抽烟的她，香气满满\n",
      "Unable to parse:  送给我最好的朋友。 祝她长命百岁太难 愿她无忧无虑不切实际 索性事事顺遂，柿柿如意 祝抽烟的她，香气满满\n",
      "Unable to parse:  送给我最好的朋友。 祝她长命百岁太难 愿她无忧无虑不切实际 索性事事顺遂，柿柿如意 祝抽烟的她，香气满满\n",
      "Unable to parse:  送给我最好的朋友。 祝她长命百岁太难 愿她无忧无虑不切实际 索性事事顺遂，柿柿如意 祝抽烟的她，香气满满\n",
      "Unable to parse:  送给我最好的朋友。 祝她长命百岁太难 愿她无忧无虑不切实际 索性事事顺遂，柿柿如意 祝抽烟的她，香气满满\n",
      "Unable to parse:  送给我最好的朋友。 祝她长命百岁太难 愿她无忧无虑不切实际 索性事事顺遂，柿柿如意 祝抽烟的她，香气满满\n",
      "Unable to parse:  送给我最好的朋友。 祝她长命百岁太难 愿她无忧无虑不切实际 索性事事顺遂，柿柿如意 祝抽烟的她，香气满满\n",
      "Unable to parse:  送给我最好的朋友。 祝她长命百岁太难 愿她无忧无虑不切实际 索性事事顺遂，柿柿如意 祝抽烟的她，香气满满\n",
      "Unable to parse:  购买时觉得有点小贵，收到货物的时候，觉得物有所值。做工精美，味道超级好闻，特别是白茶香片，味道淡雅清新又不甜腻。爱了爱了。不知道有没有单独香片可以回购\n",
      "Unable to parse:  手感超级棒\n",
      "Unable to parse:  爱迪玛希！\n",
      "Unable to parse:  这质量真是太意外了，实物美美哒，触感很好，很推荐哦~是正品，和实体店一样，价格还优惠，果断转粉 \n",
      "Unable to parse:  特别好\n",
      "Unable to parse:  特别可爱啊，送礼佳品\n",
      "Unable to parse:  小小的，挺好看，还可以当摆件\n",
      "Unable to parse:  小小的，挺好看，还可以当摆件\n",
      "Unable to parse:  小小的，挺好看，还可以当摆件\n",
      "Unable to parse:  小小的，挺好看，还可以当摆件\n",
      "Unable to parse:  小小的，挺好看，还可以当摆件\n",
      "Unable to parse:  很精致，好看，过程略复杂，结果很美好。\n",
      "Unable to parse:  很精致，好看，过程略复杂，结果很美好。\n",
      "Unable to parse:  花灯几处坏的，沟通后给补发了，客服态度很高\n",
      "Unable to parse:  送人的\n",
      "Unable to parse:  送人的\n",
      "Unable to parse:  新品故宫冰箱贴，很精致，很惊艳，春夏秋冬四季展现故宫美学！ \n",
      "Unable to parse:  新品故宫冰箱贴，很精致，很惊艳，春夏秋冬四季展现故宫美学！ \n",
      "Unable to parse:  新品故宫冰箱贴，很精致，很惊艳，春夏秋冬四季展现故宫美学！ \n",
      "Unable to parse:  新品故宫冰箱贴，很精致，很惊艳，春夏秋冬四季展现故宫美学！ \n",
      "Unable to parse:  新品故宫冰箱贴，很精致，很惊艳，春夏秋冬四季展现故宫美学！ \n",
      "Unable to parse:  新品故宫冰箱贴，很精致，很惊艳，春夏秋冬四季展现故宫美学！ \n",
      "Unable to parse:  新品故宫冰箱贴，很精致，很惊艳，春夏秋冬四季展现故宫美学！ \n",
      "Unable to parse:  新品故宫冰箱贴，很精致，很惊艳，春夏秋冬四季展现故宫美学！ \n",
      "Unable to parse:  新品故宫冰箱贴，很精致，很惊艳，春夏秋冬四季展现故宫美学！ \n",
      "Unable to parse:  新品故宫冰箱贴，很精致，很惊艳，春夏秋冬四季展现故宫美学！ \n",
      "Unable to parse:  新品故宫冰箱贴，很精致，很惊艳，春夏秋冬四季展现故宫美学！ \n",
      "Unable to parse:  新品故宫冰箱贴，很精致，很惊艳，春夏秋冬四季展现故宫美学！ \n",
      "Unable to parse:  新品故宫冰箱贴，很精致，很惊艳，春夏秋冬四季展现故宫美学！ \n",
      "Unable to parse:  新品故宫冰箱贴，很精致，很惊艳，春夏秋冬四季展现故宫美学！ \n",
      "Unable to parse:  买的第二根了，可以当挂绳，很方便。\n",
      "Unable to parse:  超级可爱，适合做礼物送人\n",
      "Unable to parse:  特别的好看\n",
      "Unable to parse:  nice，送朋友的，朋友大赞\n",
      "Unable to parse:  买了好几套\n",
      "Unable to parse:  买了好几套\n",
      "Unable to parse:  买了好几套\n",
      "Unable to parse:  整体：不太推荐购买，可能是期望太高。建议提升商品质量，匹配故宫文化招牌。\n",
      "Unable to parse:  整体：不太推荐购买，可能是期望太高。建议提升商品质量，匹配故宫文化招牌。\n",
      "Unable to parse:  整体：不太推荐购买，可能是期望太高。建议提升商品质量，匹配故宫文化招牌。\n",
      "Unable to parse:  很美！\n",
      "Unable to parse:  很美！\n",
      "Unable to parse:  很美！\n",
      "Unable to parse:  很美！\n",
      "Unable to parse:  很美！\n",
      "Unable to parse:  很美！\n",
      "Unable to parse:  很美！\n",
      "Unable to parse:  很美！\n",
      "Unable to parse:  很美！\n",
      "Unable to parse:  很美！\n",
      "Unable to parse:  挺好看的\n",
      "Unable to parse:  母亲节，送妈**胸针。三脚蝴蝶好评。很好看\n",
      "Unable to parse:  很香，包装很精美\n",
      "Unable to parse:  送朋友的，希望好用\n",
      "Unable to parse:  好看，颜值高，朋友喜欢\n",
      "Unable to parse:  娃买来送人的，发货快，质量好，不错\n",
      "Unable to parse:  包装有点不好\n",
      "Unable to parse:  包装有点不好\n",
      "Unable to parse:  正品，买的放心，价钱也公道，满意！以前一直都是在实体店买，这次选择了网上买，不光是正品，价格还实惠！\n",
      "Unable to parse:  还挺不错的\n",
      "Unable to parse:  又回购的两件谢谢店家\n",
      "Unable to parse:  又回购的两件谢谢店家\n",
      "Unable to parse:  又回购的两件谢谢店家\n",
      "Unable to parse:  又回购的两件谢谢店家\n",
      "Unable to parse:  又回购的两件谢谢店家\n",
      "Unable to parse:  又回购的两件谢谢店家\n",
      "Unable to parse:  又回购的两件谢谢店家\n",
      "Unable to parse:  又回购的两件谢谢店家\n",
      "Unable to parse:  又回购的两件谢谢店家\n",
      "Unable to parse:  又回购的两件谢谢店家\n",
      "Unable to parse:  一直很好\n",
      "Unable to parse:  拿到手就坏了\n",
      "Unable to parse:  拿到手就坏了\n",
      "Unable to parse:  拿到手就坏了\n",
      "Unable to parse:  拿到手就坏了\n",
      "Unable to parse:  拿到手就坏了\n",
      "Unable to parse:  拿到手就坏了\n",
      "Unable to parse:  拿到手就坏了\n",
      "Unable to parse:  拿到手就坏了\n",
      "Unable to parse:  拿到手就坏了\n",
      "Unable to parse:  拿到手就坏了\n",
      "Unable to parse:  手工很好\n",
      "Unable to parse:  非常棒\n",
      "Unable to parse:  非常棒\n",
      "Unable to parse:  非常棒\n",
      "Unable to parse:  非常棒\n",
      "Unable to parse:  非常棒\n",
      "Unable to parse:  非常棒\n",
      "Unable to parse:  非常棒\n",
      "Unable to parse:  非常棒\n",
      "Unable to parse:  非常棒\n",
      "Unable to parse:  非常棒\n",
      "Unable to parse:  好评\n",
      "Unable to parse:  真的贵但真的美呀美哭了！\n",
      "Unable to parse:  说明书要是能添加一个成品彩图就更好了\n",
      "Unable to parse:  说明书要是能添加一个成品彩图就更好了\n",
      "Unable to parse:  做了半天，基本成型。但是不牢固，有的地方容易松动。灯还没有亮，就这样了，容易散架\n",
      "Unable to parse:  好看，实用\n",
      "Unable to parse:  好看，实用\n",
      "Unable to parse:  店家发货非常快，服务态度很好，应该是正品，一次很愉快的购物\n",
      "Unable to parse:  送人的，真的很差劲！居然连塑封都没有！问客服还说是正常情况，批次不同导致的。绝了，这么大个店，顶着故宫的旗号，赚钱也得讲点基本法啊！\n",
      "Unable to parse:  很熱情的賣家，下次還來希望下次還有機會合作祝你生意興隆質量非常好，出乎我的意料包裝非常仔細。下次有機會再找你，店家人蠻好的，東東很不錯\n",
      "Unable to parse:  很熱情的賣家，下次還來希望下次還有機會合作祝你生意興隆質量非常好，出乎我的意料包裝非常仔細。下次有機會再找你，店家人蠻好的，東東很不錯\n",
      "Unable to parse:  可以\n",
      "Unable to parse:  精美礼品～卖家发货很快！好评！\n",
      "Unable to parse:  东西很一般 布料没有弹性 然后尺寸比较小 不如我在其他平台买的39.9，2个的针织包 本来打算退货，结果不支持上门取件 要自己送到驿站去……太不方便了 感觉故意增加退货难度 不会推荐给别人 勉为其难留下\n",
      "Unable to parse:  漂亮，是我想要的\n",
      "Unable to parse:  漂亮，是我想要的\n",
      "Unable to parse:  漂亮，是我想要的\n",
      "Unable to parse:  漂亮，是我想要的\n",
      "Unable to parse:  漂亮，是我想要的\n",
      "Unable to parse:  漂亮，是我想要的\n",
      "Unable to parse:  漂亮，是我想要的\n",
      "Unable to parse:  漂亮，是我想要的\n",
      "Unable to parse:  漂亮，是我想要的\n",
      "Unable to parse:  漂亮，是我想要的\n",
      "Unable to parse:  漂亮，是我想要的\n",
      "Unable to parse:  漂亮，是我想要的\n",
      "Unable to parse:  漂亮，是我想要的\n",
      "Unable to parse:  漂亮，是我想要的\n",
      "Unable to parse:  漂亮，是我想要的\n",
      "Unable to parse:  颜色很好，好看，喜欢\n",
      "Unable to parse:  杯子到货很快，外观很可爱。孩子很喜欢。\n",
      "Unable to parse:  杯子到货很快，外观很可爱。孩子很喜欢。\n",
      "Unable to parse:  好看\n",
      "Unable to parse:  好看 物流超级快\n",
      "Unable to parse:  好看 物流超级快\n",
      "Unable to parse:  很好看，做好了送朋友的生日礼物，不难，那个球就是认着五角星就能叠好\n",
      "Unable to parse:  好看\n",
      "Unable to parse:  小本小贵\n",
      "Unable to parse:  娃买来送人的，发货快，质量好，不错\n",
      "Unable to parse:  娃买来送人的，发货快，质量好，不错\n"
     ]
    }
   ],
   "source": [
    "#  构建GPT回复的字典\n",
    "gpt_resp_dict = dict()\n",
    "for resp in gpt_resps:\n",
    "    try:\n",
    "        text, emotion, factor = resp.split(\",\")\n",
    "        gpt_resp_dict[text] = (emotion, factor)\n",
    "    except:\n",
    "        print(\"Unable to parse: \", text)"
   ]
  },
  {
   "cell_type": "code",
   "execution_count": 5,
   "metadata": {},
   "outputs": [],
   "source": [
    "df['gpt_emotion'] = \"\"\n",
    "df['gpt_factor'] = \"\""
   ]
  },
  {
   "cell_type": "code",
   "execution_count": 7,
   "metadata": {},
   "outputs": [
    {
     "name": "stdout",
     "output_type": "stream",
     "text": [
      "Total processed reviews 7517\n"
     ]
    }
   ],
   "source": [
    "total_processed_reviews = 0\n",
    "for i in range(len(df)):\n",
    "    content = df.loc[i, 'content']\n",
    "    if content in gpt_resp_dict:\n",
    "        emotion, factor = gpt_resp_dict[content]\n",
    "        df.loc[i, 'gpt_emotion'] = emotion\n",
    "        df.loc[i, 'gpt_factor'] = factor\n",
    "        total_processed_reviews += 1\n",
    "\n",
    "print(\"Total processed reviews\", total_processed_reviews)\n",
    "df.to_csv(\"data/ChatGPT分析结果.csv\")"
   ]
  },
  {
   "cell_type": "code",
   "execution_count": 43,
   "metadata": {},
   "outputs": [
    {
     "name": "stdout",
     "output_type": "stream",
     "text": [
      "好 本子有点小，但是挺精致的,积极,尺寸\n",
      "本子有点小，但是挺精致的 当礼物蛮好,积极,情感\n",
      "当礼物蛮好 东西不错，还有优惠，可以放心省钱购买，不要犹豫了,积极,价格\n",
      "东西不错，还有优惠，可以放心省钱购买，不要犹豫了 太贵了,消极,价格\n",
      "太贵了 挺好，精致小巧，教师节送给老师很合适，价格略高。,积极,价格\n",
      "挺好，精致小巧，教师节送给老师很合适，价格略高。 冲着故宫买的，实物不咋的，价格贵了,消极,价格\n",
      "冲着故宫买的，实物不咋的，价格贵了 很好看,积极,审美\n",
      "很好看 看着挺好的，教师节礼物。,积极,情感\n",
      "看着挺好的，教师节礼物。 可可爱爱~♥♥,积极,审美\n",
      "可可爱爱~♥♥ \n"
     ]
    }
   ],
   "source": [
    "for i in range(30, 40):\n",
    "    print(df.loc[i, 'content'], gpt_resps[i])"
   ]
  },
  {
   "cell_type": "code",
   "execution_count": 6,
   "metadata": {},
   "outputs": [],
   "source": [
    "# 填补未产生GPT回复的\n",
    "\n",
    "df = pd.read_csv(\"data/ChatGPT分析结果.csv\", lineterminator=\"\\n\")\n",
    "df['content'] = df['content'].str.strip()"
   ]
  },
  {
   "cell_type": "code",
   "execution_count": 10,
   "metadata": {},
   "outputs": [
    {
     "name": "stdout",
     "output_type": "stream",
     "text": [
      "Unprocessed:  5\n",
      "Contents ['好\\x01好', '送人的，感觉不错！\\x01很好！', '服务很好,物流也很给力', '有点小贵、', '普普通通吧，實物沒有圖片優秀', '我觉得这个太喜欢了，物超所值质量非常好，与卖家描述的完全一致，非常满意,真的很喜欢，完全超出期望值，发货速度非常快，包装非常仔细、严实，物流公司服务态度很好，运送速度很快，很满意的一次购物，下次有需要还会来！！！！！！', '0.1元得到  棒', '东西质量非常好，与卖家描述的完全一致，非常满意,真的很喜欢，完全超出期望值，发货速度非常快，包装非常仔细、严实，物流公司服务态度很好，运送速度很快，很满意的一次购物。', '用起来很放心，质量非常好，赶上活动购买非常的划算,真的很不错哦～', '质量非常好，与卖家描述的完全一致，非常满意,真的很喜欢，完全超出期望值，很满意的一次购物，身边的人都问我要链接！！']\n",
      "Resps ['好，好,积极,其他', '送人的，感觉不错！,积极,情感', '服务很好,积极,其他', '有点小贵,消极,价格', '普普通通吧，實物沒有圖片優秀,消极,品质', '我觉得这个太喜欢了，物超所值质量非常好，与卖家描述的完全一致，非常满意,真的很喜欢，完全超出期望值，发货速度非常快，包装非常仔细、严实，物流公司服务态度很好，运送速度很快，很满意的一次购物，下次有需要还会来！！！！！！,积极,实用性', '0.1元得到  棒,积极,价格', '东西质量非常好，与卖家描述的完全一致，非常满意,真的很喜欢，完全超出期望值，发货速度非常快，包装非常仔细、严实，物流公司服务态度很好，运送速度很快，很满意的一次购物。,积极,其他', '用起来很放心，质量非常好，赶上活动购买非常的划算,真的很不错哦～,积极,实用性', '质量非常好，与卖家描述的完全一致，非常满意,真的很喜欢，完全超出期望值，很满意的一次购物，身边的人都问我要链接！！,积极,其他']\n",
      "Fail to parse 我觉得这个太喜欢了，物超所值质量非常好，与卖家描述的完全一致，非常满意,真的很喜欢，完全超出期望值，发货速度非常快，包装非常仔细、严实，物流公司服务态度很好，运送速度很快，很满意的一次购物，下次有需要还会来！！！！！！,积极,实用性\n",
      "Fail to parse 东西质量非常好，与卖家描述的完全一致，非常满意,真的很喜欢，完全超出期望值，发货速度非常快，包装非常仔细、严实，物流公司服务态度很好，运送速度很快，很满意的一次购物。,积极,其他\n",
      "Fail to parse 用起来很放心，质量非常好，赶上活动购买非常的划算,真的很不错哦～,积极,实用性\n",
      "Fail to parse 质量非常好，与卖家描述的完全一致，非常满意,真的很喜欢，完全超出期望值，很满意的一次购物，身边的人都问我要链接！！,积极,其他\n",
      "Parsed 2 contents.\n",
      "Contents ['非常喜欢很好，', '', '好看的口罩，非常有特色，我挺喜欢的，，，，，，', '宝贝收到了，质量很不错，包装精致，材质优秀，比想象中好，送礼自用非常合适，下次继续购买宝贝收到了，质量很不错，包装精致，材质优秀，比想象中好，送礼自用非常合适，下次继续购买宝贝收到了，质量很不错，包装精致，材质优秀，比想象中好，送礼自用非常合适，下次继续购买宝贝收到了，质量很不错，包装精致，材质优秀，比想象中好，送礼自用非常合适，下次继续购买宝贝收到了，质量很不错，包装精致，材质优秀，比想象中好，送礼自用非常合适，下次继续购买宝贝收到了，质量很不错，包装精致，材质优秀，比想象中好，送礼自用非常合适，下次继续购买宝贝收到了，质量很不错，包装精致，材质优秀，比想象中好，送礼自用非常合适，下次继续购买宝贝收到了，质量很不错，包装精致，材质优秀，比想象中好，送礼自用非常合适，下次继续购买宝贝收到了，质量很不错，包装精致，材质优秀，比想象中好，送礼自用非常合适，下次继续购买宝贝收到了，质量很不错，包装精致，材质优秀，比想象中好，送礼自用非常合适，下次继续购买', '真的超级喜欢，非常支持，质量非常好，与卖家描述的完全一致，非常满意，真的很喜欢！！！ \\u200b\\u200b\\u200b', '宝贝收到了，物流很给力，客服态度好。', '发货很快快递，包装也很精致，收到的实物感觉比想象中更漂亮一点，不过就是有点舍不得带出门了。', '产品功能：故宫文化口罩，各种刺绣都有。戴起来有的真不适合男的。。。 外观材质：各种花里胡哨，同事说有的戴着像要登基', '漂亮，有特色，比较贵的防尘口罩，各两盒共40个要73元，双十一的价钱，', '超级可爱，非常漂亮。']\n"
     ]
    },
    {
     "name": "stdout",
     "output_type": "stream",
     "text": [
      "注：此时GPT的回复数缺失！已经靠后补全\n",
      "Resps ['很好,积极,其他', '好看的口罩，非常有特色，我挺喜欢的，积极,图案', '宝贝收到了，质量很不错，包装精致，材质优秀，比想象中好，送礼自用非常合适，下次继续购买，积极,品质', '真的超级喜欢，非常支持，质量非常好，与卖家描述的完全一致，非常满意，真的很喜欢！！！\\u200b\\u200b\\u200b，积极,品质', '宝贝收到了，物流很给力，客服态度好，积极,物流', '发货很快快递，包装也很精致，收到的实物感觉比想象中更漂亮一点，不过就是有点舍不得带出门了，积极,包装', '产品功能：故宫文化口罩，各种刺绣都有。戴起来有的真不适合男的。。。 外观材质：各种花里胡哨，同事说有的戴着像要登基，消极,造型', '漂亮，有特色，比较贵的防尘口罩，各两盒共40个要73元，双十一的价钱，消极,价格', '超级可爱，非常漂亮，积极,颜色', '']\n",
      "Fail to parse 好看的口罩，非常有特色，我挺喜欢的，积极,图案\n",
      "Fail to parse 宝贝收到了，质量很不错，包装精致，材质优秀，比想象中好，送礼自用非常合适，下次继续购买，积极,品质\n",
      "Fail to parse 真的超级喜欢，非常支持，质量非常好，与卖家描述的完全一致，非常满意，真的很喜欢！！！​​​，积极,品质\n",
      "Fail to parse 宝贝收到了，物流很给力，客服态度好，积极,物流\n",
      "Fail to parse 发货很快快递，包装也很精致，收到的实物感觉比想象中更漂亮一点，不过就是有点舍不得带出门了，积极,包装\n",
      "Fail to parse 产品功能：故宫文化口罩，各种刺绣都有。戴起来有的真不适合男的。。。 外观材质：各种花里胡哨，同事说有的戴着像要登基，消极,造型\n",
      "Fail to parse 漂亮，有特色，比较贵的防尘口罩，各两盒共40个要73元，双十一的价钱，消极,价格\n",
      "Fail to parse 超级可爱，非常漂亮，积极,颜色\n",
      "Fail to parse \n",
      "Parsed 0 contents.\n",
      "Contents ['口罩外形很精致漂亮，戴上也很有特色，我很喜欢。', '挺好看的。', '好看的。', '好看，喜欢', '颜值超高', '是从左心室开始,新鲜的动脉血液从左心室经体动脉被压出，经过全身组织与组织各处完成氧气与二氧化碳的交换后有动脉血变为静脉血，经由下腔静脉回到右心房，再进入右心房，通过肺动脉进入进入肺部的循环，将静脉血转化成动脉血，再由肺静脉进入左心房，最后进入左心室，之后血液由右心室射出经肺的感觉。', '故宫博物院的设计好，材质与价格还是小贵，', '很精美\\x01好快', '产品质量不错,东西比较小,还算精致,作为礼物给孩子应该会喜欢......\\x01非常好', '質量非常好,與賣家描述的完全一致, 真的很喜歡,完全超出期望值,發貨速 度非常快,包裝非常仔細、嚴實,物流公司服務態度很好,運送速度很快,很滿意的一次購物質量很好, 希望更多的朋友信賴. 店主態度特好, 我會再次光顧的好賣家 贊，發貨迅速，態度很好，很滿意！很好很好！網上購物這麼激烈，沒想到店家的服務這麼好，商品質量好而價低廉， 很熱情的賣家，下次還來希望下次還有機會合作祝你生意興隆質量非常好，出乎我的意料包裝非常仔細。下次有機會再找你，店家人蠻好的，東東很不錯,淘到心意的寶貝是一件讓人很開心的事，比心??????????????? 質量非常好,與賣家描述的完全一致, 真的很喜歡,完全超出期望值,發貨速 度非常快,包裝非常仔細、嚴實,物流公司服務態度很好,運送速度很快']\n"
     ]
    }
   ],
   "source": [
    "print(\"Unprocessed: \", df['gpt_emotion'].isna().sum())\n",
    "i_start = 0\n",
    "while True:\n",
    "    unparsed_indices = []\n",
    "    unparsed_contents = []\n",
    "    for i in range(i_start, len(df)):\n",
    "        if pd.isna(df.loc[i, 'gpt_emotion']):\n",
    "            unparsed_indices.append(i)\n",
    "            unparsed_contents.append(df.loc[i, 'content'])\n",
    "            if len(unparsed_indices) == 10:\n",
    "                break\n",
    "    i_start = i + 1\n",
    "\n",
    "    print(\"Contents\", unparsed_contents)\n",
    "    resps = get_gpt_response(unparsed_contents)\n",
    "    print(\"Resps\", resps)\n",
    "    resp_dict = dict()\n",
    "    for r in resps:\n",
    "        try:\n",
    "            content, emotion, factor = r.split(\",\")\n",
    "            resp_dict[content] = (emotion, factor)\n",
    "        except:\n",
    "            print(\"Fail to parse\", r)\n",
    "    \n",
    "    current_parsed = 0\n",
    "    for j in unparsed_indices:\n",
    "        content = df.loc[j, 'content']\n",
    "        if content in resp_dict:\n",
    "            emotion, factor = resp_dict[content]\n",
    "            df.loc[j, 'gpt_emotion'] = emotion\n",
    "            df.loc[j, 'gpt_factor'] = factor\n",
    "            current_parsed += 1\n",
    "    print(f\"Parsed {current_parsed} contents.\")"
   ]
  },
  {
   "cell_type": "code",
   "execution_count": 9,
   "metadata": {},
   "outputs": [
    {
     "data": {
      "text/html": [
       "<div>\n",
       "<style scoped>\n",
       "    .dataframe tbody tr th:only-of-type {\n",
       "        vertical-align: middle;\n",
       "    }\n",
       "\n",
       "    .dataframe tbody tr th {\n",
       "        vertical-align: top;\n",
       "    }\n",
       "\n",
       "    .dataframe thead th {\n",
       "        text-align: right;\n",
       "    }\n",
       "</style>\n",
       "<table border=\"1\" class=\"dataframe\">\n",
       "  <thead>\n",
       "    <tr style=\"text-align: right;\">\n",
       "      <th></th>\n",
       "      <th>Unnamed: 0</th>\n",
       "      <th>Unnamed: 0.1</th>\n",
       "      <th>product_name</th>\n",
       "      <th>content</th>\n",
       "      <th>reply</th>\n",
       "      <th>gpt_emotion</th>\n",
       "      <th>gpt_factor</th>\n",
       "    </tr>\n",
       "  </thead>\n",
       "  <tbody>\n",
       "    <tr>\n",
       "      <th>0</th>\n",
       "      <td>0</td>\n",
       "      <td>1</td>\n",
       "      <td>故宫小确幸笔记本日记本礼品本子生日礼物礼品伴手礼</td>\n",
       "      <td>非常漂亮</td>\n",
       "      <td>NaN</td>\n",
       "      <td>积极</td>\n",
       "      <td>审美</td>\n",
       "    </tr>\n",
       "    <tr>\n",
       "      <th>1</th>\n",
       "      <td>1</td>\n",
       "      <td>2</td>\n",
       "      <td>故宫小确幸笔记本日记本礼品本子生日礼物礼品伴手礼</td>\n",
       "      <td>很精致，买来做教师节礼物的</td>\n",
       "      <td>NaN</td>\n",
       "      <td>积极</td>\n",
       "      <td>实用性</td>\n",
       "    </tr>\n",
       "    <tr>\n",
       "      <th>2</th>\n",
       "      <td>2</td>\n",
       "      <td>3</td>\n",
       "      <td>故宫小确幸笔记本日记本礼品本子生日礼物礼品伴手礼</td>\n",
       "      <td>很好看，但是送礼物了，没有打开看，希望朋友喜欢。</td>\n",
       "      <td>NaN</td>\n",
       "      <td>积极</td>\n",
       "      <td>情感</td>\n",
       "    </tr>\n",
       "    <tr>\n",
       "      <th>3</th>\n",
       "      <td>3</td>\n",
       "      <td>4</td>\n",
       "      <td>故宫小确幸笔记本日记本礼品本子生日礼物礼品伴手礼</td>\n",
       "      <td>质量很好，买的很合我心意，棒棒哒！✨需要的亲们可以放心购买</td>\n",
       "      <td>NaN</td>\n",
       "      <td>积极</td>\n",
       "      <td>品质</td>\n",
       "    </tr>\n",
       "    <tr>\n",
       "      <th>4</th>\n",
       "      <td>4</td>\n",
       "      <td>5</td>\n",
       "      <td>故宫小确幸笔记本日记本礼品本子生日礼物礼品伴手礼</td>\n",
       "      <td>送给妹** 她很喜欢</td>\n",
       "      <td>NaN</td>\n",
       "      <td>积极</td>\n",
       "      <td>情感</td>\n",
       "    </tr>\n",
       "    <tr>\n",
       "      <th>...</th>\n",
       "      <td>...</td>\n",
       "      <td>...</td>\n",
       "      <td>...</td>\n",
       "      <td>...</td>\n",
       "      <td>...</td>\n",
       "      <td>...</td>\n",
       "      <td>...</td>\n",
       "    </tr>\n",
       "    <tr>\n",
       "      <th>10204</th>\n",
       "      <td>10204</td>\n",
       "      <td>11030</td>\n",
       "      <td>故宫小确幸笔记本日记本礼品本子生日礼物礼品伴手礼</td>\n",
       "      <td>好</td>\n",
       "      <td>NaN</td>\n",
       "      <td>积极</td>\n",
       "      <td>其他</td>\n",
       "    </tr>\n",
       "    <tr>\n",
       "      <th>10205</th>\n",
       "      <td>10205</td>\n",
       "      <td>11031</td>\n",
       "      <td>故宫小确幸笔记本日记本礼品本子生日礼物礼品伴手礼</td>\n",
       "      <td>漂亮</td>\n",
       "      <td>NaN</td>\n",
       "      <td>积极</td>\n",
       "      <td>颜色</td>\n",
       "    </tr>\n",
       "    <tr>\n",
       "      <th>10206</th>\n",
       "      <td>10206</td>\n",
       "      <td>11032</td>\n",
       "      <td>故宫小确幸笔记本日记本礼品本子生日礼物礼品伴手礼</td>\n",
       "      <td>故宫文创yyds！纸质非常好！</td>\n",
       "      <td>NaN</td>\n",
       "      <td>积极</td>\n",
       "      <td>材质</td>\n",
       "    </tr>\n",
       "    <tr>\n",
       "      <th>10207</th>\n",
       "      <td>10207</td>\n",
       "      <td>11033</td>\n",
       "      <td>故宫小确幸笔记本日记本礼品本子生日礼物礼品伴手礼</td>\n",
       "      <td>好评</td>\n",
       "      <td>NaN</td>\n",
       "      <td>积极</td>\n",
       "      <td>其他</td>\n",
       "    </tr>\n",
       "    <tr>\n",
       "      <th>10208</th>\n",
       "      <td>10208</td>\n",
       "      <td>11034</td>\n",
       "      <td>故宫冯承素摹兰亭序帖卷原大手卷装饰画居家故宫博物院官方</td>\n",
       "      <td>字还是不错的，很有收藏价值，就是盒子换到第三次才没有瑕疵，只能说太不应该了！</td>\n",
       "      <td>亲爱的，您好！很高兴遇到您这样有慧眼、懂文物、又有胸怀的朋友~给您带来的不便我们也真诚的说声...</td>\n",
       "      <td>消极</td>\n",
       "      <td>包装</td>\n",
       "    </tr>\n",
       "  </tbody>\n",
       "</table>\n",
       "<p>10209 rows × 7 columns</p>\n",
       "</div>"
      ],
      "text/plain": [
       "       Unnamed: 0  Unnamed: 0.1                 product_name  \\\n",
       "0               0             1     故宫小确幸笔记本日记本礼品本子生日礼物礼品伴手礼   \n",
       "1               1             2     故宫小确幸笔记本日记本礼品本子生日礼物礼品伴手礼   \n",
       "2               2             3     故宫小确幸笔记本日记本礼品本子生日礼物礼品伴手礼   \n",
       "3               3             4     故宫小确幸笔记本日记本礼品本子生日礼物礼品伴手礼   \n",
       "4               4             5     故宫小确幸笔记本日记本礼品本子生日礼物礼品伴手礼   \n",
       "...           ...           ...                          ...   \n",
       "10204       10204         11030     故宫小确幸笔记本日记本礼品本子生日礼物礼品伴手礼   \n",
       "10205       10205         11031     故宫小确幸笔记本日记本礼品本子生日礼物礼品伴手礼   \n",
       "10206       10206         11032     故宫小确幸笔记本日记本礼品本子生日礼物礼品伴手礼   \n",
       "10207       10207         11033     故宫小确幸笔记本日记本礼品本子生日礼物礼品伴手礼   \n",
       "10208       10208         11034  故宫冯承素摹兰亭序帖卷原大手卷装饰画居家故宫博物院官方   \n",
       "\n",
       "                                      content  \\\n",
       "0                                        非常漂亮   \n",
       "1                               很精致，买来做教师节礼物的   \n",
       "2                    很好看，但是送礼物了，没有打开看，希望朋友喜欢。   \n",
       "3               质量很好，买的很合我心意，棒棒哒！✨需要的亲们可以放心购买   \n",
       "4                                  送给妹** 她很喜欢   \n",
       "...                                       ...   \n",
       "10204                                       好   \n",
       "10205                                      漂亮   \n",
       "10206                         故宫文创yyds！纸质非常好！   \n",
       "10207                                      好评   \n",
       "10208  字还是不错的，很有收藏价值，就是盒子换到第三次才没有瑕疵，只能说太不应该了！   \n",
       "\n",
       "                                                   reply gpt_emotion  \\\n",
       "0                                                    NaN          积极   \n",
       "1                                                    NaN          积极   \n",
       "2                                                    NaN          积极   \n",
       "3                                                    NaN          积极   \n",
       "4                                                    NaN          积极   \n",
       "...                                                  ...         ...   \n",
       "10204                                                NaN          积极   \n",
       "10205                                                NaN          积极   \n",
       "10206                                                NaN          积极   \n",
       "10207                                                NaN          积极   \n",
       "10208  亲爱的，您好！很高兴遇到您这样有慧眼、懂文物、又有胸怀的朋友~给您带来的不便我们也真诚的说声...          消极   \n",
       "\n",
       "      gpt_factor  \n",
       "0             审美  \n",
       "1            实用性  \n",
       "2             情感  \n",
       "3             品质  \n",
       "4             情感  \n",
       "...          ...  \n",
       "10204         其他  \n",
       "10205         颜色  \n",
       "10206         材质  \n",
       "10207         其他  \n",
       "10208         包装  \n",
       "\n",
       "[10209 rows x 7 columns]"
      ]
     },
     "execution_count": 9,
     "metadata": {},
     "output_type": "execute_result"
    }
   ],
   "source": [
    "df"
   ]
  },
  {
   "cell_type": "code",
   "execution_count": null,
   "metadata": {},
   "outputs": [],
   "source": []
  }
 ],
 "metadata": {
  "kernelspec": {
   "display_name": "torch",
   "language": "python",
   "name": "python3"
  },
  "language_info": {
   "codemirror_mode": {
    "name": "ipython",
    "version": 3
   },
   "file_extension": ".py",
   "mimetype": "text/x-python",
   "name": "python",
   "nbconvert_exporter": "python",
   "pygments_lexer": "ipython3",
   "version": "3.8.19"
  }
 },
 "nbformat": 4,
 "nbformat_minor": 2
}
